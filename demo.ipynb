{
 "cells": [
  {
   "cell_type": "code",
   "execution_count": null,
   "id": "3cb87749-c039-492a-aef5-57c4ea4b32b5",
   "metadata": {},
   "outputs": [],
   "source": [
    "data_path = \"data/gradient.png\"\n",
    "strength = 10.0"
   ]
  },
  {
   "cell_type": "code",
   "execution_count": null,
   "id": "20ac09d6-24c4-4058-897c-a295ebec75cf",
   "metadata": {},
   "outputs": [],
   "source": [
    "import imageio.v2 as imageio\n",
    "import torchvision.transforms.functional as F\n",
    "import torch\n",
    "import torch.nn as nn\n",
    "import numpy as np\n",
    "\n",
    "img = imageio.imread(data_path)\n",
    "if img.dtype == np.uint8:\n",
    "    height_map = img.astype(np.float32) / 255.0\n",
    "elif img.dtype == np.uint16 or img.dtype == np.int32:\n",
    "    height_map = img.astype(np.float32) / 65535.0\n",
    "height_map = torch.from_numpy(height_map).unsqueeze(0)"
   ]
  },
  {
   "cell_type": "code",
   "execution_count": null,
   "id": "925787e2-081b-4825-946b-4ebd4e84eac2",
   "metadata": {},
   "outputs": [],
   "source": [
    "display(F.to_pil_image(height_map, mode=\"L\"))"
   ]
  },
  {
   "cell_type": "code",
   "execution_count": null,
   "id": "609b4e5a-a052-4c16-8c81-72edc0c23816",
   "metadata": {},
   "outputs": [],
   "source": [
    "from h2n import HeightToNormal"
   ]
  },
  {
   "cell_type": "code",
   "execution_count": null,
   "id": "a7957e72-9fb7-4245-946b-d91975880ea6",
   "metadata": {},
   "outputs": [],
   "source": [
    "h2n = HeightToNormal(blur=None, strength=strength, invert_x=True)\n",
    "grad = h2n.filter_grad(height_map.unsqueeze(0))\n",
    "print(\"grad max: {}, min: {}\".format(grad.max(), grad.min()))\n",
    "display(F.to_pil_image(strength*grad, mode=\"L\"))"
   ]
  },
  {
   "cell_type": "code",
   "execution_count": null,
   "id": "bdf6f44c-c2b7-4019-b96e-78e08045c2cd",
   "metadata": {
    "scrolled": true
   },
   "outputs": [],
   "source": [
    "normal = h2n(height_map.unsqueeze(0))\n",
    "normal_map = (normal+1.0)*0.5\n",
    "display(F.to_pil_image(normal_map.squeeze(0), mode=\"RGB\"))"
   ]
  }
 ],
 "metadata": {
  "kernelspec": {
   "display_name": "Python 3 (ipykernel)",
   "language": "python",
   "name": "python3"
  },
  "language_info": {
   "codemirror_mode": {
    "name": "ipython",
    "version": 3
   },
   "file_extension": ".py",
   "mimetype": "text/x-python",
   "name": "python",
   "nbconvert_exporter": "python",
   "pygments_lexer": "ipython3",
   "version": "3.8.19"
  }
 },
 "nbformat": 4,
 "nbformat_minor": 5
}
